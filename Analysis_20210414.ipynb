{
 "cells": [
  {
   "cell_type": "code",
   "execution_count": 1,
   "metadata": {},
   "outputs": [],
   "source": [
    "import numpy as np\n",
    "import pandas as pd\n",
    "import matplotlib.pyplot as plt\n",
    "import pyodbc\n",
    "\n",
    "from sklearn.preprocessing import StandardScaler, MinMaxScaler\n",
    "from sklearn.decomposition import PCA\n",
    "import bisect \n",
    "\n",
    "from datetime import datetime\n",
    "from printdescribe import changepath\n",
    "\n",
    "from statsmodels.tsa.api import VAR\n",
    "from statsmodels.tsa.stattools import adfuller\n",
    "from statsmodels.tools.eval_measures import rmse, aic\n",
    "\n",
    "from statsmodels.tsa.stattools import kpss,adfuller\n",
    "\n",
    "\n",
    "\n",
    "\n",
    "from statsmodels.tsa.stattools import acf, pacf\n",
    "from statsmodels.graphics.tsaplots import plot_acf, plot_pacf"
   ]
  },
  {
   "cell_type": "code",
   "execution_count": 2,
   "metadata": {},
   "outputs": [
    {
     "name": "stdout",
     "output_type": "stream",
     "text": [
      "driver:Microsoft Access Text Driver (*.txt, *.csv)\n"
     ]
    }
   ],
   "source": [
    "drivers = [item for item in pyodbc.drivers()]\n",
    "driver = drivers[-1]\n",
    "print(\"driver:{}\".format(driver))"
   ]
  },
  {
   "cell_type": "code",
   "execution_count": 3,
   "metadata": {},
   "outputs": [],
   "source": [
    "# path1 = r\"C:\\Users\\HP\\Downloads\"\n",
    "# with changepath(path1):\n",
    "#     data = pd.read_csv(\"spy_vix.csv\")\n",
    "cnxn = pyodbc.connect('Trusted_Connection=yes', \n",
    "                     driver = '{ODBC Driver 17 for SQL Server}',\n",
    "                     server = '.', \n",
    "                     database = 'TickHistory')"
   ]
  },
  {
   "cell_type": "code",
   "execution_count": 4,
   "metadata": {},
   "outputs": [
    {
     "data": {
      "text/html": [
       "<div>\n",
       "<style scoped>\n",
       "    .dataframe tbody tr th:only-of-type {\n",
       "        vertical-align: middle;\n",
       "    }\n",
       "\n",
       "    .dataframe tbody tr th {\n",
       "        vertical-align: top;\n",
       "    }\n",
       "\n",
       "    .dataframe thead th {\n",
       "        text-align: right;\n",
       "    }\n",
       "</style>\n",
       "<table border=\"1\" class=\"dataframe\">\n",
       "  <thead>\n",
       "    <tr style=\"text-align: right;\">\n",
       "      <th></th>\n",
       "      <th>Date_Time</th>\n",
       "      <th>SPY_Volume</th>\n",
       "      <th>SPY_Last</th>\n",
       "      <th>VIX_Last</th>\n",
       "    </tr>\n",
       "  </thead>\n",
       "  <tbody>\n",
       "    <tr>\n",
       "      <th>617355</th>\n",
       "      <td>2020-12-31T20:58:51.000000000Z</td>\n",
       "      <td>17587</td>\n",
       "      <td>374.26</td>\n",
       "      <td>22.64</td>\n",
       "    </tr>\n",
       "    <tr>\n",
       "      <th>617356</th>\n",
       "      <td>2020-12-31T20:59:06.000000000Z</td>\n",
       "      <td>110402</td>\n",
       "      <td>374.43</td>\n",
       "      <td>22.59</td>\n",
       "    </tr>\n",
       "    <tr>\n",
       "      <th>617357</th>\n",
       "      <td>2020-12-31T20:59:21.000000000Z</td>\n",
       "      <td>49541</td>\n",
       "      <td>374.32</td>\n",
       "      <td>22.56</td>\n",
       "    </tr>\n",
       "    <tr>\n",
       "      <th>617358</th>\n",
       "      <td>2020-12-31T20:59:36.000000000Z</td>\n",
       "      <td>44823</td>\n",
       "      <td>374.32</td>\n",
       "      <td>22.62</td>\n",
       "    </tr>\n",
       "    <tr>\n",
       "      <th>617359</th>\n",
       "      <td>2020-12-31T20:59:51.000000000Z</td>\n",
       "      <td>201248</td>\n",
       "      <td>374.63</td>\n",
       "      <td>22.51</td>\n",
       "    </tr>\n",
       "  </tbody>\n",
       "</table>\n",
       "</div>"
      ],
      "text/plain": [
       "                             Date_Time SPY_Volume  SPY_Last  VIX_Last\n",
       "617355  2020-12-31T20:58:51.000000000Z      17587    374.26     22.64\n",
       "617356  2020-12-31T20:59:06.000000000Z     110402    374.43     22.59\n",
       "617357  2020-12-31T20:59:21.000000000Z      49541    374.32     22.56\n",
       "617358  2020-12-31T20:59:36.000000000Z      44823    374.32     22.62\n",
       "617359  2020-12-31T20:59:51.000000000Z     201248    374.63     22.51"
      ]
     },
     "execution_count": 4,
     "metadata": {},
     "output_type": "execute_result"
    }
   ],
   "source": [
    "cursor = cnxn.cursor()\n",
    "query = '''select Spy.Date_Time, SPY.Volume [SPY_Volume],\n",
    "SPY.Last [SPY_Last], VIX.Last [VIX_Last]\n",
    "FROM [TickHistory].[dbo].[raw_SPY_VIX_2019_2020] Spy\n",
    "INNER JOIN [TickHistory].[dbo].[raw_SPY_VIX_2019_2020] Vix\n",
    "ON Spy.Date_Time = Vix.Date_Time\n",
    "AND Vix.RIC = '.VIX'\n",
    "where Spy.RIC = 'SPY' \n",
    "and Spy.[Open] is not null\n",
    "ORDER BY Spy.Date_Time'''\n",
    "# query = '''select top 10 * from raw_SPY_VIX_2019_2020'''\n",
    "# cursor.execute()\n",
    "data = pd.read_sql(query, cnxn)\n",
    "# cnxn.commit()\n",
    "cursor.close()\n",
    "data.tail(5)"
   ]
  },
  {
   "cell_type": "code",
   "execution_count": 5,
   "metadata": {},
   "outputs": [],
   "source": [
    "df = data"
   ]
  },
  {
   "cell_type": "code",
   "execution_count": 6,
   "metadata": {},
   "outputs": [],
   "source": [
    "df['TimeIndex']= df['Date_Time'].apply(lambda t:datetime.strptime(t[:-11], \"%Y-%m-%dT%H:%M:%S\"))"
   ]
  },
  {
   "cell_type": "code",
   "execution_count": 7,
   "metadata": {},
   "outputs": [],
   "source": [
    "df.set_index(\"TimeIndex\", inplace=True)"
   ]
  },
  {
   "cell_type": "code",
   "execution_count": 8,
   "metadata": {},
   "outputs": [],
   "source": [
    "df = df[['SPY_Last','VIX_Last']]"
   ]
  },
  {
   "cell_type": "code",
   "execution_count": 9,
   "metadata": {},
   "outputs": [],
   "source": [
    "df = df.astype('float64')"
   ]
  },
  {
   "cell_type": "code",
   "execution_count": 10,
   "metadata": {},
   "outputs": [],
   "source": [
    "df = df.dropna()"
   ]
  },
  {
   "cell_type": "code",
   "execution_count": 66,
   "metadata": {},
   "outputs": [],
   "source": [
    "df_train = df[:int(len(df)*0.8)]\n",
    "df_test = df[int(len(df)*0.8):]"
   ]
  },
  {
   "cell_type": "code",
   "execution_count": 70,
   "metadata": {},
   "outputs": [],
   "source": [
    "# Difference the datasets twice\n",
    "df_train_fd = df_train.diff().dropna()\n",
    "df_test_fd = df_test.diff().dropna()\n",
    "df_train_sd = df_train_fd.diff().dropna()\n",
    "df_test_sd = df_test_fd.diff().dropna()"
   ]
  },
  {
   "cell_type": "code",
   "execution_count": 74,
   "metadata": {},
   "outputs": [
    {
     "name": "stderr",
     "output_type": "stream",
     "text": [
      "C:\\Program Files (x86)\\Microsoft Visual Studio\\Shared\\Anaconda3_64\\envs\\tensorflow\\lib\\site-packages\\statsmodels\\tsa\\base\\tsa_model.py:218: ValueWarning: A date index has been provided, but it has no associated frequency information and so will be ignored when e.g. forecasting.\n",
      "  ' ignored when e.g. forecasting.', ValueWarning)\n"
     ]
    },
    {
     "name": "stdout",
     "output_type": "stream",
     "text": [
      "  Summary of Regression Results   \n",
      "==================================\n",
      "Model:                         VAR\n",
      "Method:                        OLS\n",
      "Date:           Wed, 14, Apr, 2021\n",
      "Time:                     21:43:58\n",
      "--------------------------------------------------------------------\n",
      "No. of Equations:         2.00000    BIC:                   -8.57408\n",
      "Nobs:                     617357.    HQIC:                  -8.57413\n",
      "Log likelihood:           894677.    FPE:                0.000188927\n",
      "AIC:                     -8.57415    Det(Omega_mle):     0.000188925\n",
      "--------------------------------------------------------------------\n",
      "Results for equation SPY_Last\n",
      "==============================================================================\n",
      "                 coefficient       std. error           t-stat            prob\n",
      "------------------------------------------------------------------------------\n",
      "L1.SPY_Last        -0.478858         0.001169         -409.474           0.000\n",
      "L1.VIX_Last         0.094456         0.001900           49.718           0.000\n",
      "==============================================================================\n",
      "\n",
      "Results for equation VIX_Last\n",
      "==============================================================================\n",
      "                 coefficient       std. error           t-stat            prob\n",
      "------------------------------------------------------------------------------\n",
      "L1.SPY_Last        -0.092524         0.000705         -131.169           0.000\n",
      "L1.VIX_Last        -0.561703         0.001146         -490.173           0.000\n",
      "==============================================================================\n",
      "\n",
      "Correlation matrix of residuals\n",
      "            SPY_Last  VIX_Last\n",
      "SPY_Last    1.000000 -0.393204\n",
      "VIX_Last   -0.393204  1.000000\n",
      "\n",
      "\n",
      "\n"
     ]
    }
   ],
   "source": [
    "'''LOOKIE LOOKIE'''\n",
    "var_1 = VAR(df_train_sd)\n",
    "var_1_fitted = var_model.fit(1, trend='nc')# Fit the model\n",
    "print(var_1_fitted.summary())"
   ]
  },
  {
   "cell_type": "code",
   "execution_count": 75,
   "metadata": {},
   "outputs": [
    {
     "name": "stderr",
     "output_type": "stream",
     "text": [
      "C:\\Program Files (x86)\\Microsoft Visual Studio\\Shared\\Anaconda3_64\\envs\\tensorflow\\lib\\site-packages\\statsmodels\\tsa\\base\\tsa_model.py:218: ValueWarning: A date index has been provided, but it has no associated frequency information and so will be ignored when e.g. forecasting.\n",
      "  ' ignored when e.g. forecasting.', ValueWarning)\n"
     ]
    },
    {
     "name": "stdout",
     "output_type": "stream",
     "text": [
      "  Summary of Regression Results   \n",
      "==================================\n",
      "Model:                         VAR\n",
      "Method:                        OLS\n",
      "Date:           Wed, 14, Apr, 2021\n",
      "Time:                     21:44:04\n",
      "--------------------------------------------------------------------\n",
      "No. of Equations:         2.00000    BIC:                   -8.85860\n",
      "Nobs:                     617356.    HQIC:                  -8.85870\n",
      "Log likelihood:           982527.    FPE:                0.000142134\n",
      "AIC:                     -8.85874    Det(Omega_mle):     0.000142132\n",
      "--------------------------------------------------------------------\n",
      "Results for equation SPY_Last\n",
      "==============================================================================\n",
      "                 coefficient       std. error           t-stat            prob\n",
      "------------------------------------------------------------------------------\n",
      "L1.SPY_Last        -0.651383         0.001306         -498.906           0.000\n",
      "L1.VIX_Last         0.065787         0.002165           30.393           0.000\n",
      "L2.SPY_Last        -0.309735         0.001321         -234.394           0.000\n",
      "L2.VIX_Last         0.090331         0.002142           42.179           0.000\n",
      "==============================================================================\n",
      "\n",
      "Results for equation VIX_Last\n",
      "==============================================================================\n",
      "                 coefficient       std. error           t-stat            prob\n",
      "------------------------------------------------------------------------------\n",
      "L1.SPY_Last        -0.123410         0.000777         -158.888           0.000\n",
      "L1.VIX_Last        -0.774790         0.001288         -601.686           0.000\n",
      "L2.SPY_Last        -0.080034         0.000786         -101.809           0.000\n",
      "L2.VIX_Last        -0.393750         0.001274         -309.051           0.000\n",
      "==============================================================================\n",
      "\n",
      "Correlation matrix of residuals\n",
      "            SPY_Last  VIX_Last\n",
      "SPY_Last    1.000000 -0.417057\n",
      "VIX_Last   -0.417057  1.000000\n",
      "\n",
      "\n",
      "\n"
     ]
    }
   ],
   "source": [
    "'''LOOKIE LOOKIE'''\n",
    "var_2 = VAR(df_train_sd)\n",
    "var_2_fitted = var_model.fit(2, trend='nc')# Fit the model\n",
    "print(var_2_fitted.summary())"
   ]
  },
  {
   "cell_type": "code",
   "execution_count": 76,
   "metadata": {},
   "outputs": [
    {
     "name": "stderr",
     "output_type": "stream",
     "text": [
      "C:\\Program Files (x86)\\Microsoft Visual Studio\\Shared\\Anaconda3_64\\envs\\tensorflow\\lib\\site-packages\\statsmodels\\tsa\\base\\tsa_model.py:218: ValueWarning: A date index has been provided, but it has no associated frequency information and so will be ignored when e.g. forecasting.\n",
      "  ' ignored when e.g. forecasting.', ValueWarning)\n"
     ]
    },
    {
     "name": "stdout",
     "output_type": "stream",
     "text": [
      "  Summary of Regression Results   \n",
      "==================================\n",
      "Model:                         VAR\n",
      "Method:                        OLS\n",
      "Date:           Wed, 14, Apr, 2021\n",
      "Time:                     21:44:08\n",
      "--------------------------------------------------------------------\n",
      "No. of Equations:         2.00000    BIC:                   -8.99322\n",
      "Nobs:                     617355.    HQIC:                  -8.99338\n",
      "Log likelihood:       1.02411e+06    FPE:                0.000124222\n",
      "AIC:                     -8.99344    Det(Omega_mle):     0.000124219\n",
      "--------------------------------------------------------------------\n",
      "Results for equation SPY_Last\n",
      "==============================================================================\n",
      "                 coefficient       std. error           t-stat            prob\n",
      "------------------------------------------------------------------------------\n",
      "L1.SPY_Last        -0.734418         0.001359         -540.404           0.000\n",
      "L1.VIX_Last         0.052852         0.002284           23.136           0.000\n",
      "L2.SPY_Last        -0.471988         0.001636         -288.481           0.000\n",
      "L2.VIX_Last         0.084488         0.002724           31.013           0.000\n",
      "L3.SPY_Last        -0.216137         0.001385         -156.004           0.000\n",
      "L3.VIX_Last         0.090580         0.002248           40.299           0.000\n",
      "==============================================================================\n",
      "\n",
      "Results for equation VIX_Last\n",
      "==============================================================================\n",
      "                 coefficient       std. error           t-stat            prob\n",
      "------------------------------------------------------------------------------\n",
      "L1.SPY_Last        -0.138706         0.000807         -171.953           0.000\n",
      "L1.VIX_Last        -0.876726         0.001356         -646.579           0.000\n",
      "L2.SPY_Last        -0.122001         0.000971         -125.628           0.000\n",
      "L2.VIX_Last        -0.597407         0.001617         -369.449           0.000\n",
      "L3.SPY_Last        -0.062244         0.000822          -75.691           0.000\n",
      "L3.VIX_Last        -0.269973         0.001334         -202.359           0.000\n",
      "==============================================================================\n",
      "\n",
      "Correlation matrix of residuals\n",
      "            SPY_Last  VIX_Last\n",
      "SPY_Last    1.000000 -0.427204\n",
      "VIX_Last   -0.427204  1.000000\n",
      "\n",
      "\n",
      "\n"
     ]
    }
   ],
   "source": [
    "'''LOOKIE LOOKIE'''\n",
    "var_3 = VAR(df_train_sd)\n",
    "var_3_fitted = var_model.fit(3, trend='nc')# Fit the model\n",
    "print(var_3_fitted.summary())"
   ]
  },
  {
   "cell_type": "markdown",
   "metadata": {},
   "source": [
    "### PREDICTION"
   ]
  },
  {
   "cell_type": "code",
   "execution_count": 85,
   "metadata": {},
   "outputs": [],
   "source": [
    "df_train_lagged = df_train_sd.shift(1).dropna()\n",
    "df_train_lagged_2 = df_train_sd.shift(2).dropna()\n",
    "df_train_lagged_3 = df_train_sd.shift(3).dropna()"
   ]
  },
  {
   "cell_type": "code",
   "execution_count": 86,
   "metadata": {},
   "outputs": [],
   "source": [
    "df_test_lagged = df_test_sd.shift(1).dropna()\n",
    "df_test_lagged_2 = df_test_sd.shift(2).dropna()\n",
    "df_test_lagged_3 = df_test_sd.shift(3).dropna()"
   ]
  },
  {
   "cell_type": "code",
   "execution_count": 87,
   "metadata": {},
   "outputs": [],
   "source": [
    "predicted_train_1 = var_1_fitted.coefs[0][0][0]*df_train_lagged['SPY_Last'] +\\\n",
    "var_1_fitted.coefs[0][0][1]*df_train_lagged['VIX_Last']"
   ]
  },
  {
   "cell_type": "code",
   "execution_count": 88,
   "metadata": {},
   "outputs": [],
   "source": [
    "predicted_train_2 = var_2_fitted.coefs[0][0][0]*df_train_lagged['SPY_Last'] +\\\n",
    "var_2_fitted.coefs[0][0][1]*df_train_lagged['VIX_Last'] +\\\n",
    "var_2_fitted.coefs[1][0][0]*df_train_lagged_2['SPY_Last'] +\\\n",
    "var_2_fitted.coefs[1][0][1]*df_train_lagged_2['VIX_Last']"
   ]
  },
  {
   "cell_type": "code",
   "execution_count": 89,
   "metadata": {},
   "outputs": [],
   "source": [
    "predicted_train_3 = var_3_fitted.coefs[0][0][0]*df_train_lagged['SPY_Last'] +\\\n",
    "var_3_fitted.coefs[0][0][1]*df_train_lagged['VIX_Last'] +\\\n",
    "var_3_fitted.coefs[1][0][0]*df_train_lagged_2['SPY_Last'] +\\\n",
    "var_3_fitted.coefs[1][0][1]*df_train_lagged_2['VIX_Last'] +\\\n",
    "var_3_fitted.coefs[2][0][0]*df_train_lagged_3['SPY_Last'] +\\\n",
    "var_3_fitted.coefs[2][0][1]*df_train_lagged_3['VIX_Last'] "
   ]
  },
  {
   "cell_type": "code",
   "execution_count": 92,
   "metadata": {},
   "outputs": [],
   "source": [
    "predicted_train_undiff = 2*df_train['SPY_Last'].shift(1) - df_train['SPY_Last'].shift(2) + predicted_train_1"
   ]
  },
  {
   "cell_type": "code",
   "execution_count": 100,
   "metadata": {},
   "outputs": [],
   "source": [
    "predicted_train_undiff.dropna(inplace=True)"
   ]
  },
  {
   "cell_type": "code",
   "execution_count": 101,
   "metadata": {},
   "outputs": [],
   "source": [
    "df_delta_1 = predicted_train_undiff-df_train['SPY_Last'][3:]"
   ]
  },
  {
   "cell_type": "code",
   "execution_count": 102,
   "metadata": {},
   "outputs": [
    {
     "data": {
      "text/plain": [
       "TimeIndex\n",
       "2019-01-02 14:31:49    246.498254\n",
       "2019-01-02 14:32:04    246.634812\n",
       "2019-01-02 14:32:19    246.477145\n",
       "2019-01-02 14:32:34    246.299929\n",
       "2019-01-02 14:32:49    246.444327\n",
       "dtype: float64"
      ]
     },
     "execution_count": 102,
     "metadata": {},
     "output_type": "execute_result"
    }
   ],
   "source": [
    "predicted_train_undiff.head(5)"
   ]
  },
  {
   "cell_type": "code",
   "execution_count": 103,
   "metadata": {},
   "outputs": [
    {
     "data": {
      "text/plain": [
       "TimeIndex\n",
       "2019-01-02 14:31:49    246.5511\n",
       "2019-01-02 14:32:04    246.4700\n",
       "2019-01-02 14:32:19    246.3800\n",
       "2019-01-02 14:32:34    246.4500\n",
       "2019-01-02 14:32:49    246.3900\n",
       "Name: SPY_Last, dtype: float64"
      ]
     },
     "execution_count": 103,
     "metadata": {},
     "output_type": "execute_result"
    }
   ],
   "source": [
    "df_train['SPY_Last'][3:].head(5)"
   ]
  },
  {
   "cell_type": "code",
   "execution_count": 104,
   "metadata": {},
   "outputs": [
    {
     "data": {
      "text/plain": [
       "TimeIndex\n",
       "2019-01-02 14:31:49   -0.052846\n",
       "2019-01-02 14:32:04    0.164812\n",
       "2019-01-02 14:32:19    0.097145\n",
       "2019-01-02 14:32:34   -0.150071\n",
       "2019-01-02 14:32:49    0.054327\n",
       "                         ...   \n",
       "2020-08-18 13:40:49    0.006566\n",
       "2020-08-18 13:41:04   -0.048319\n",
       "2020-08-18 13:41:34    0.011862\n",
       "2020-08-18 13:41:49    0.003291\n",
       "2020-08-18 13:42:04   -0.022899\n",
       "Length: 493885, dtype: float64"
      ]
     },
     "execution_count": 104,
     "metadata": {},
     "output_type": "execute_result"
    }
   ],
   "source": [
    "df_delta_1"
   ]
  },
  {
   "cell_type": "code",
   "execution_count": 105,
   "metadata": {},
   "outputs": [
    {
     "data": {
      "text/plain": [
       "<matplotlib.legend.Legend at 0x21d762de588>"
      ]
     },
     "execution_count": 105,
     "metadata": {},
     "output_type": "execute_result"
    },
    {
     "data": {
      "image/png": "[encoded data removed]",
      "text/plain": [
       "<Figure size 432x288 with 1 Axes>"
      ]
     },
     "metadata": {
      "needs_background": "light"
     },
     "output_type": "display_data"
    }
   ],
   "source": [
    "plt.plot(df_train['SPY_Last'], label='Actual SPY Last - Train')\n",
    "plt.plot(predicted_train_undiff, label='Forecast(1) of SPY Last - Train')\n",
    "# plt.plot(df_delta_1, label='Delta')\n",
    "plt.legend()"
   ]
  },
  {
   "cell_type": "code",
   "execution_count": 112,
   "metadata": {},
   "outputs": [
    {
     "data": {
      "text/plain": [
       "<matplotlib.legend.Legend at 0x21d75be2a88>"
      ]
     },
     "execution_count": 112,
     "metadata": {},
     "output_type": "execute_result"
    },
    {
     "data": {
      "image/png": "[encoded data removed]",
      "text/plain": [
       "<Figure size 432x288 with 1 Axes>"
      ]
     },
     "metadata": {
      "needs_background": "light"
     },
     "output_type": "display_data"
    }
   ],
   "source": [
    "plt.plot(df_delta_1['2020-03-12':'2020-03-15'], label='Delta')\n",
    "plt.legend()"
   ]
  },
  {
   "cell_type": "code",
   "execution_count": 114,
   "metadata": {},
   "outputs": [
    {
     "data": {
      "text/plain": [
       "count    3047.000000\n",
       "mean       -0.000050\n",
       "std         0.654473\n",
       "min       -14.580239\n",
       "25%        -0.219574\n",
       "50%        -0.007175\n",
       "75%         0.212645\n",
       "max        17.980527\n",
       "dtype: float64"
      ]
     },
     "execution_count": 114,
     "metadata": {},
     "output_type": "execute_result"
    }
   ],
   "source": [
    "df_delta_1['2020-03-12':'2020-03-15'].describe()"
   ]
  },
  {
   "cell_type": "code",
   "execution_count": 121,
   "metadata": {},
   "outputs": [
    {
     "data": {
      "text/plain": [
       "count    493885.000000\n",
       "mean          0.067794\n",
       "std           0.146961\n",
       "min           0.000000\n",
       "25%           0.016989\n",
       "50%           0.038957\n",
       "75%           0.079138\n",
       "max          31.768029\n",
       "dtype: float64"
      ]
     },
     "execution_count": 121,
     "metadata": {},
     "output_type": "execute_result"
    }
   ],
   "source": [
    "np.abs(df_delta_1).describe()"
   ]
  },
  {
   "cell_type": "code",
   "execution_count": 117,
   "metadata": {},
   "outputs": [],
   "source": [
    "df_train_fd['2020-03-12':'2020-03-15'].to_csv('delta_train_fd.csv')"
   ]
  },
  {
   "cell_type": "code",
   "execution_count": 118,
   "metadata": {},
   "outputs": [],
   "source": [
    "df_train_sd['2020-03-12':'2020-03-15'].to_csv('delta_train_sd.csv')"
   ]
  },
  {
   "cell_type": "code",
   "execution_count": 119,
   "metadata": {},
   "outputs": [],
   "source": [
    "df_train['2020-03-11':'2020-03-15'].to_csv('train.csv')"
   ]
  },
  {
   "cell_type": "markdown",
   "metadata": {},
   "source": [
    "### ARIMA"
   ]
  },
  {
   "cell_type": "code",
   "execution_count": 123,
   "metadata": {},
   "outputs": [],
   "source": [
    "from statsmodels.tsa.arima.model import ARIMA"
   ]
  },
  {
   "cell_type": "code",
   "execution_count": 131,
   "metadata": {},
   "outputs": [
    {
     "name": "stderr",
     "output_type": "stream",
     "text": [
      "C:\\Program Files (x86)\\Microsoft Visual Studio\\Shared\\Anaconda3_64\\envs\\tensorflow\\lib\\site-packages\\statsmodels\\tsa\\base\\tsa_model.py:218: ValueWarning: A date index has been provided, but it has no associated frequency information and so will be ignored when e.g. forecasting.\n",
      "  ' ignored when e.g. forecasting.', ValueWarning)\n",
      "C:\\Program Files (x86)\\Microsoft Visual Studio\\Shared\\Anaconda3_64\\envs\\tensorflow\\lib\\site-packages\\statsmodels\\tsa\\base\\tsa_model.py:218: ValueWarning: A date index has been provided, but it has no associated frequency information and so will be ignored when e.g. forecasting.\n",
      "  ' ignored when e.g. forecasting.', ValueWarning)\n",
      "C:\\Program Files (x86)\\Microsoft Visual Studio\\Shared\\Anaconda3_64\\envs\\tensorflow\\lib\\site-packages\\statsmodels\\tsa\\base\\tsa_model.py:218: ValueWarning: A date index has been provided, but it has no associated frequency information and so will be ignored when e.g. forecasting.\n",
      "  ' ignored when e.g. forecasting.', ValueWarning)\n"
     ]
    }
   ],
   "source": [
    "arima_1 = ARIMA(df_train_sd['SPY_Last'], df_train_sd['VIX_Last'], order=(1,0,0))"
   ]
  },
  {
   "cell_type": "code",
   "execution_count": 132,
   "metadata": {},
   "outputs": [
    {
     "name": "stdout",
     "output_type": "stream",
     "text": [
      "                               SARIMAX Results                                \n",
      "==============================================================================\n",
      "Dep. Variable:               SPY_Last   No. Observations:               493886\n",
      "Model:                 ARIMA(1, 0, 0)   Log Likelihood              237820.202\n",
      "Date:                Wed, 14 Apr 2021   AIC                        -475632.404\n",
      "Time:                        22:48:27   BIC                        -475587.964\n",
      "Sample:                             0   HQIC                       -475619.817\n",
      "                             - 493886                                         \n",
      "Covariance Type:                  opg                                         \n",
      "==============================================================================\n",
      "                 coef    std err          z      P>|z|      [0.025      0.975]\n",
      "------------------------------------------------------------------------------\n",
      "const       -5.06e-06      0.000     -0.035      0.972      -0.000       0.000\n",
      "VIX_Last      -0.6168   6.45e-05  -9563.152      0.000      -0.617      -0.617\n",
      "ar.L1         -0.5331   2.85e-05  -1.87e+04      0.000      -0.533      -0.533\n",
      "sigma2         0.0223   8.56e-07   2.61e+04      0.000       0.022       0.022\n",
      "===================================================================================\n",
      "Ljung-Box (Q):                    78826.06   Jarque-Bera (JB):      718778766633.47\n",
      "Prob(Q):                              0.00   Prob(JB):                         0.00\n",
      "Heteroskedasticity (H):              11.47   Skew:                           -17.95\n",
      "Prob(H) (two-sided):                  0.00   Kurtosis:                      5912.92\n",
      "===================================================================================\n",
      "\n",
      "Warnings:\n",
      "[1] Covariance matrix calculated using the outer product of gradients (complex-step).\n"
     ]
    }
   ],
   "source": [
    "res_arima_1 = arima_1.fit()\n",
    "print(res_arima_1.summary())"
   ]
  },
  {
   "cell_type": "code",
   "execution_count": 136,
   "metadata": {},
   "outputs": [],
   "source": [
    "# predict_arima_sd = -0.6168*df_train_sd['VIX_Last'] - 0.5331*df_train_lagged['SPY_Last'] + 0.0223 "
   ]
  },
  {
   "cell_type": "code",
   "execution_count": null,
   "metadata": {},
   "outputs": [],
   "source": [
    "predict_arima_sd = -0.6168*df_train_sd['VIX_Last'] - 0.5331*df_train_lagged['SPY_Last'] + 0.0223 "
   ]
  },
  {
   "cell_type": "code",
   "execution_count": 137,
   "metadata": {},
   "outputs": [
    {
     "data": {
      "text/plain": [
       "TimeIndex\n",
       "2019-01-02 14:31:34         NaN\n",
       "2019-01-02 14:31:49    0.034407\n",
       "2019-01-02 14:32:04    0.015695\n",
       "2019-01-02 14:32:19    0.086688\n",
       "2019-01-02 14:32:34    0.020877\n",
       "dtype: float64"
      ]
     },
     "execution_count": 137,
     "metadata": {},
     "output_type": "execute_result"
    }
   ],
   "source": [
    "predict_arima_sd.head(5)"
   ]
  },
  {
   "cell_type": "code",
   "execution_count": 135,
   "metadata": {},
   "outputs": [
    {
     "data": {
      "text/plain": [
       "TimeIndex\n",
       "2019-01-02 14:31:34    0.0120\n",
       "2019-01-02 14:31:49    0.0471\n",
       "2019-01-02 14:32:04   -0.1902\n",
       "2019-01-02 14:32:19   -0.0089\n",
       "2019-01-02 14:32:34    0.1600\n",
       "Name: SPY_Last, dtype: float64"
      ]
     },
     "execution_count": 135,
     "metadata": {},
     "output_type": "execute_result"
    }
   ],
   "source": [
    "df_train_sd['SPY_Last'].head(5)"
   ]
  },
  {
   "cell_type": "code",
   "execution_count": 138,
   "metadata": {},
   "outputs": [
    {
     "data": {
      "text/plain": [
       "<matplotlib.legend.Legend at 0x21d727c1988>"
      ]
     },
     "execution_count": 138,
     "metadata": {},
     "output_type": "execute_result"
    },
    {
     "data": {
      "image/png": "[encoded data removed]",
      "text/plain": [
       "<Figure size 432x288 with 1 Axes>"
      ]
     },
     "metadata": {
      "needs_background": "light"
     },
     "output_type": "display_data"
    }
   ],
   "source": [
    "plt.plot(df_train_sd['SPY_Last'], label='SD SPY Last - Train')\n",
    "plt.plot(predict_arima_sd, label='Forecast(1) SD of SPY Last - Train')\n",
    "# plt.plot(df_delta_1, label='Delta')\n",
    "plt.legend()"
   ]
  },
  {
   "cell_type": "code",
   "execution_count": 139,
   "metadata": {},
   "outputs": [],
   "source": [
    "from arch.univariate import ConstantMean, GARCH, Normal"
   ]
  },
  {
   "cell_type": "code",
   "execution_count": null,
   "metadata": {},
   "outputs": [],
   "source": []
  },
  {
   "cell_type": "code",
   "execution_count": 44,
   "metadata": {},
   "outputs": [],
   "source": [
    "from sklearn.metrics import mean_absolute_error, mean_squared_error"
   ]
  },
  {
   "cell_type": "code",
   "execution_count": 45,
   "metadata": {},
   "outputs": [],
   "source": [
    "predicted_undiff.dropna(inplace=True)"
   ]
  },
  {
   "cell_type": "code",
   "execution_count": 46,
   "metadata": {},
   "outputs": [],
   "source": [
    "def get_prediction_accuracy(method, expected, predicted):\n",
    "    if method == 'MSE':\n",
    "        accuracy = mean_squared_error(expected, predicted)\n",
    "        return {method:accuracy}\n",
    "    elif method == 'MAE':\n",
    "        accuracy = mean_absolute_error(expected, predicted)\n",
    "        return {method:accuracy}\n",
    "#     else:\n",
    "#         accuracy = mean_absolute_error(expected, predicted)\n",
    "#         return {method:accuracy}"
   ]
  },
  {
   "cell_type": "code",
   "execution_count": 53,
   "metadata": {},
   "outputs": [
    {
     "data": {
      "text/plain": [
       "-0.21613722966483417"
      ]
     },
     "execution_count": 53,
     "metadata": {},
     "output_type": "execute_result"
    }
   ],
   "source": [
    "var_3_fitted.coefs[2][0][0]"
   ]
  },
  {
   "cell_type": "markdown",
   "metadata": {},
   "source": [
    "- Consider ARIMA and GARCH?\n",
    "- VIX vs no VIX\n",
    "- VAR(p) where p = 1 to 5? Determine parsimony (elbow) rule\n",
    "- Train vs test dataset\n",
    "- Forecast(1) vs Forecast(up to 5)"
   ]
  },
  {
   "cell_type": "code",
   "execution_count": 63,
   "metadata": {},
   "outputs": [],
   "source": [
    "predicted_1_undiff = 2*df['SPY_Last'].shift(1) - df['SPY_Last'].shift(2) + predicted_1\n",
    "predicted_2_undiff = 2*df['SPY_Last'].shift(1) - df['SPY_Last'].shift(2) + predicted_2\n",
    "predicted_3_undiff = 2*df['SPY_Last'].shift(1) - df['SPY_Last'].shift(2) + predicted_3"
   ]
  },
  {
   "cell_type": "code",
   "execution_count": null,
   "metadata": {},
   "outputs": [],
   "source": [
    "preds = [predicted_1_undiff.dropna(), predicted_2_undiff.dropna(), predicted_3_undiff.dropna()]\n",
    "for i in range(0, len(preds)):\n",
    "    print (get_prediction_accuracy('MSE', df['SPY_Last'][3+i:], preds[i]))\n",
    "    print (get_prediction_accuracy('MAE', df['SPY_Last'][3+i:], preds[i]))\n",
    "#     print (get_prediction_accuracy('MAPE', df['SPY_Last'][3+i:], preds[i]))"
   ]
  },
  {
   "cell_type": "code",
   "execution_count": null,
   "metadata": {},
   "outputs": [],
   "source": [
    "print(get_prediction_accuracy('MSE', df['SPY_Last'][3:], predicted_undiff))"
   ]
  },
  {
   "cell_type": "code",
   "execution_count": null,
   "metadata": {},
   "outputs": [],
   "source": [
    "predicted_1"
   ]
  },
  {
   "cell_type": "code",
   "execution_count": 18,
   "metadata": {},
   "outputs": [],
   "source": [
    "# predicted_2 = -0.651446*df_train_l2['SPY_Last_1'] + 0.058218*df_train_l2['VIX_Last_1'] -\\\n",
    "# 0.311987*df_train_l2['SPY_Last_2'] + 0.081197*df_train_l2['VIX_Last_2']\n",
    "predicted_1 = -0.478858*df_lagged['SPY_Last'] + 0.094456*df_lagged['VIX_Last']"
   ]
  },
  {
   "cell_type": "code",
   "execution_count": 19,
   "metadata": {},
   "outputs": [
    {
     "data": {
      "text/plain": [
       "<matplotlib.legend.Legend at 0x21d778c3a88>"
      ]
     },
     "execution_count": 19,
     "metadata": {},
     "output_type": "execute_result"
    },
    {
     "data": {
      "image/png": "[encoded data removed]",
      "text/plain": [
       "<Figure size 432x288 with 1 Axes>"
      ]
     },
     "metadata": {
      "needs_background": "light"
     },
     "output_type": "display_data"
    }
   ],
   "source": [
    "plt.plot(df_second['SPY_Last'], label='Actual SD of SPY')\n",
    "plt.plot(predicted_1, label='Predicted VAR(1) SD of SPY')\n",
    "plt.legend()"
   ]
  },
  {
   "cell_type": "code",
   "execution_count": 20,
   "metadata": {},
   "outputs": [],
   "source": [
    "def rebuild_diffed_get_fd(series, previous_series):\n",
    "    cumsum = series.cumsum()\n",
    "    undiff = cumsum.fillna(0) + previous_series.iloc[0]\n",
    "    return previous_series.head(2).append(undiff)\n",
    "def rebuild_diffed_get_undiff(series, previous_series):\n",
    "    cumsum = series.cumsum()\n",
    "    undiff = cumsum.fillna(0) + previous_series.iloc[0]\n",
    "    return previous_series.head(1).append(undiff)\n",
    "# assert rebuild_diffed(df_log_returns_no_vol_fd, df_log_returns_no_vol).equals(df_log_returns_no_vol)\n",
    "# rebuild_diffed(rebuild_diffed(df_log_returns_no_vol_fd, df_log_returns_no_vol), df_original)"
   ]
  },
  {
   "cell_type": "code",
   "execution_count": 21,
   "metadata": {},
   "outputs": [],
   "source": [
    "p_fd = rebuild_diffed_get_fd(predicted_1, df_first['SPY_Last'])"
   ]
  },
  {
   "cell_type": "code",
   "execution_count": 22,
   "metadata": {},
   "outputs": [],
   "source": [
    "p_undiff = rebuild_diffed_get_undiff(p_fd, df['SPY_Last'])"
   ]
  },
  {
   "cell_type": "code",
   "execution_count": 23,
   "metadata": {},
   "outputs": [],
   "source": [
    "df_first_spy = pd.DataFrame(df_first['SPY_Last'])\n",
    "p_fd = pd.DataFrame(p_fd)"
   ]
  },
  {
   "cell_type": "code",
   "execution_count": 25,
   "metadata": {},
   "outputs": [],
   "source": [
    "df_first_comp = df_first_spy.join(p_fd)\n",
    "df_first_comp.rename(columns={0:'SPY_Last_Pred'}, inplace=True)"
   ]
  },
  {
   "cell_type": "code",
   "execution_count": 26,
   "metadata": {},
   "outputs": [],
   "source": [
    "df_first_comp['Delta'] = df_first_comp['SPY_Last'] - df_first_comp['SPY_Last_Pred']"
   ]
  },
  {
   "cell_type": "code",
   "execution_count": null,
   "metadata": {},
   "outputs": [],
   "source": []
  },
  {
   "cell_type": "markdown",
   "metadata": {},
   "source": [
    "Agenda for April 11, 2021:\n",
    "-    Transformation to check prediction. \n",
    "-   Plot the actual and predicted using the test data.\n",
    "-   We can move on to trading strategies."
   ]
  },
  {
   "cell_type": "markdown",
   "metadata": {},
   "source": [
    "For transformation of second-differenced dataset back to the original dataset, all I need to know are the times and first or last two observations of the original dataset. \n",
    "BUT BEWARE, DO NOT TRY TO PREDICT 600 THOUSAND PERIODS FORWARD. TRY TO PREDICT 1-2 PERIODS FORWARD AT A TIME."
   ]
  },
  {
   "cell_type": "code",
   "execution_count": 37,
   "metadata": {},
   "outputs": [
    {
     "data": {
      "text/plain": [
       "246.55110000000002"
      ]
     },
     "execution_count": 37,
     "metadata": {},
     "output_type": "execute_result"
    }
   ],
   "source": [
    "246.4420+0.062+0.0471"
   ]
  },
  {
   "cell_type": "code",
   "execution_count": null,
   "metadata": {},
   "outputs": [],
   "source": [
    "#var_1_fitted.forecast(np.array([0,0]),3)\n",
    "df_second"
   ]
  },
  {
   "cell_type": "code",
   "execution_count": null,
   "metadata": {},
   "outputs": [],
   "source": [
    "lags = var_1_fitted.k_ar"
   ]
  },
  {
   "cell_type": "code",
   "execution_count": null,
   "metadata": {},
   "outputs": [],
   "source": [
    "df_second.values[3:4]"
   ]
  },
  {
   "cell_type": "code",
   "execution_count": null,
   "metadata": {},
   "outputs": [],
   "source": [
    "var_1_fitted.forecast(df_second.values[:1],1)"
   ]
  },
  {
   "cell_type": "code",
   "execution_count": null,
   "metadata": {},
   "outputs": [],
   "source": [
    "future_obs = 1"
   ]
  },
  {
   "cell_type": "code",
   "execution_count": null,
   "metadata": {},
   "outputs": [],
   "source": [
    "df_second.iat[1,0]"
   ]
  },
  {
   "cell_type": "code",
   "execution_count": null,
   "metadata": {},
   "outputs": [],
   "source": [
    "df_second['SPY_Last'].iloc[1] "
   ]
  },
  {
   "cell_type": "code",
   "execution_count": null,
   "metadata": {},
   "outputs": [],
   "source": [
    "var_1_fitted.forecast(df_second.values[:2],1)"
   ]
  },
  {
   "cell_type": "code",
   "execution_count": null,
   "metadata": {},
   "outputs": [],
   "source": [
    "df_sc.iloc[1] = var_1_fitted.forecast(df_second.values[:2],1)"
   ]
  },
  {
   "cell_type": "code",
   "execution_count": null,
   "metadata": {},
   "outputs": [],
   "source": [
    "len(df_sc)"
   ]
  },
  {
   "cell_type": "code",
   "execution_count": null,
   "metadata": {},
   "outputs": [],
   "source": []
  },
  {
   "cell_type": "code",
   "execution_count": null,
   "metadata": {},
   "outputs": [],
   "source": [
    "var_1_fitted.forecast??"
   ]
  },
  {
   "cell_type": "code",
   "execution_count": null,
   "metadata": {},
   "outputs": [],
   "source": [
    "var_1_fitted.endog[1]"
   ]
  },
  {
   "cell_type": "code",
   "execution_count": null,
   "metadata": {},
   "outputs": [],
   "source": [
    "results.forecast(df_second.values[3:600], steps=1)"
   ]
  },
  {
   "cell_type": "code",
   "execution_count": null,
   "metadata": {},
   "outputs": [],
   "source": [
    "df_second.values[3:4]"
   ]
  },
  {
   "cell_type": "code",
   "execution_count": null,
   "metadata": {},
   "outputs": [],
   "source": [
    "# forecasting\n",
    "# pred = results.forecast(results.y, steps=nobs)\n",
    "# df_forecast = pd.DataFrame(pred, index=df.index[-nobs:], columns=df.columns + '_1d')\n",
    "# df_forecast.tail()# inverting transformation\n",
    "# def invert_transformation(df_train, df_forecast, second_diff=False):\n",
    "#     \"\"\"Revert back the differencing to get the forecast to original scale.\"\"\"\n",
    "#     df_fc = df_forecast.copy()\n",
    "#     columns = df_train.columns\n",
    "#     for col in columns:        \n",
    "#         # Roll back 2nd Diff\n",
    "#         if second_diff:\n",
    "#             df_fc[str(col)+'_1d'] = (df_train[col].iloc[-1]-df_train[col].iloc[-2]) + df_fc[str(col)+'_1d'].cumsum()\n",
    "#         # Roll back 1st Diff\n",
    "#         df_fc[str(col)+'_forecast'] = df_train[col].iloc[-1] + df_fc[str(col)+'_1d'].cumsum()\n",
    "#     return df_fc# show inverted results in a dataframe\n",
    "# df_results = invert_transformation(df_train, df_forecast, second_diff=True)        \n",
    "# df_results.loc[:, ['realgdp_forecast', 'realcons_forecast']]"
   ]
  },
  {
   "cell_type": "code",
   "execution_count": null,
   "metadata": {},
   "outputs": [],
   "source": []
  },
  {
   "cell_type": "code",
   "execution_count": null,
   "metadata": {},
   "outputs": [],
   "source": [
    "# VAR(1)\n",
    "df_sc = df_second.copy()\n",
    "for i in range(1,len(df_second)-1):\n",
    "#     var_1_fitted.forecast(df_second.values[i-future_obs:i],1)\n",
    "    df_sc.iloc[i+1] = var_1_fitted.forecast(df_second.values[i-future_obs:i],1)"
   ]
  },
  {
   "cell_type": "code",
   "execution_count": null,
   "metadata": {},
   "outputs": [],
   "source": [
    "df_second.values[0:1]"
   ]
  },
  {
   "cell_type": "code",
   "execution_count": null,
   "metadata": {},
   "outputs": [],
   "source": [
    "results.forecast(df_second.values[0:100],1)"
   ]
  },
  {
   "cell_type": "code",
   "execution_count": null,
   "metadata": {},
   "outputs": [],
   "source": [
    "# VAR(100)\n",
    "df_sc_100 = df_second.copy()\n",
    "for i in range(100,len(df_second)-1):\n",
    "#     var_1_fitted.forecast(df_second.values[i-future_obs:i],1)\n",
    "    df_sc_100.iloc[i+1] = results.forecast(df_second.values[0:i],1)"
   ]
  },
  {
   "cell_type": "code",
   "execution_count": null,
   "metadata": {},
   "outputs": [],
   "source": []
  },
  {
   "cell_type": "code",
   "execution_count": null,
   "metadata": {},
   "outputs": [],
   "source": [
    "def revert_transformation(df_train, df_forecast):\n",
    "    df_fc = df_forecast.copy()\n",
    "    for col in df_train.columns:\n",
    "        df_fc[str(col)+'_1d'] = 2*df_train[col].shift(1) - df_train[col].shift(2) + df_fc[col]\n",
    "    return df_fc"
   ]
  },
  {
   "cell_type": "code",
   "execution_count": null,
   "metadata": {},
   "outputs": [],
   "source": [
    "df_var_1 = revert_transformation(df, df_sc)"
   ]
  },
  {
   "cell_type": "code",
   "execution_count": null,
   "metadata": {},
   "outputs": [],
   "source": [
    "df_var_100 = revert_transformation(df, df_sc_100)"
   ]
  },
  {
   "cell_type": "code",
   "execution_count": null,
   "metadata": {},
   "outputs": [],
   "source": [
    "df_var_1"
   ]
  },
  {
   "cell_type": "code",
   "execution_count": null,
   "metadata": {},
   "outputs": [],
   "source": [
    "df_var_100"
   ]
  },
  {
   "cell_type": "code",
   "execution_count": null,
   "metadata": {},
   "outputs": [],
   "source": [
    "plt.plot(df['SPY_Last'], label='Actual SPY Last')\n",
    "plt.plot(predicted_undiff, label='Forecast(1)-Manual of SPY Last')\n",
    "plt.plot(df_var_1['SPY_Last_1d'], label='Forecast(1)-MSE of SPY Last')\n",
    "plt.plot(df_var_100['SPY_Last_1d'], label='Forecast(100)-MSE of SPY Last')\n",
    "# plt.plot(df_delta_1, label='Delta')\n",
    "plt.legend()"
   ]
  },
  {
   "cell_type": "code",
   "execution_count": null,
   "metadata": {},
   "outputs": [],
   "source": [
    "'''Here is a comparison of the various VAR(p) predictions. We have decided to abandon the forecast function \n",
    "and instead we will manually derive the predicted level datasets.'''\n",
    "# Manual\n",
    "preds = [predicted_1_undiff.dropna(), predicted_2_undiff.dropna(), predicted_3_undiff.dropna()]\n",
    "for i in range(0, len(preds)):\n",
    "    print (get_prediction_accuracy('MSE', df['SPY_Last'][3+i:], preds[i]))\n",
    "    print (get_prediction_accuracy('MAE', df['SPY_Last'][3+i:], preds[i]))\n",
    "\n",
    "# Forecast function\n",
    "print (get_prediction_accuracy('MSE', df['SPY_Last'][2:], df_var_1['SPY_Last_1d'].dropna()))\n",
    "print (get_prediction_accuracy('MAE', df['SPY_Last'][2:], df_var_1['SPY_Last_1d'].dropna()))\n",
    "# Forecast function\n",
    "print (get_prediction_accuracy('MSE', df['SPY_Last'][2:], df_var_100['SPY_Last_1d'].dropna()))\n",
    "print (get_prediction_accuracy('MAE', df['SPY_Last'][2:], df_var_100['SPY_Last_1d'].dropna()))"
   ]
  },
  {
   "cell_type": "code",
   "execution_count": null,
   "metadata": {},
   "outputs": [],
   "source": []
  },
  {
   "cell_type": "code",
   "execution_count": null,
   "metadata": {},
   "outputs": [],
   "source": []
  },
  {
   "cell_type": "code",
   "execution_count": null,
   "metadata": {},
   "outputs": [],
   "source": []
  }
 ],
 "metadata": {
  "kernelspec": {
   "display_name": "Python 3.8.1 64-bit",
   "language": "python",
   "name": "python38164bit29165707708e4d6699646ad1dd841a4e"
  },
  "language_info": {
   "codemirror_mode": {
    "name": "ipython",
    "version": 3
   },
   "file_extension": ".py",
   "mimetype": "text/x-python",
   "name": "python",
   "nbconvert_exporter": "python",
   "pygments_lexer": "ipython3",
   "version": "3.8.1"
  }
 },
 "nbformat": 4,
 "nbformat_minor": 4
}
